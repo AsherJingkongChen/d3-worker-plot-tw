{
 "cells": [
  {
   "cell_type": "code",
   "execution_count": null,
   "metadata": {
    "vscode": {
     "languageId": "html"
    }
   },
   "outputs": [],
   "source": [
    "%%html\n",
    "<style>\n",
    "    .jp-Cell.jp-CodeCell {\n",
    "        display: none;\n",
    "    }\n",
    "</style>"
   ]
  },
  {
   "cell_type": "markdown",
   "metadata": {},
   "source": [
    "## 重新繪製台灣移工組成圖表"
   ]
  },
  {
   "cell_type": "markdown",
   "metadata": {},
   "source": [
    "### 參考文章及資料來源\n",
    "\n",
    "1. 新聞\n",
    "\n",
    "    [全台移工將破80萬大關，電業也招手！失聯者逼近9萬人 這產業占最多 by 李瑋萱 (2024)](https://tw.news.yahoo.com/全台移工將破80萬大關-電業也招手-失聯者逼近9萬人-這產業占最多-091507621.html)\n",
    "\n",
    "2. 圖表\n",
    "\n",
    "<pre>\n",
    "    <a href=\"https://statfy.mol.gov.tw/index12.aspx\" target=\"_blank\">\n",
    "        <img alt=\"勞動部 - 勞動統計查詢網 - 產業與社福移工人數 - 按國籍別分\" title=\"勞動部 - 勞動統計查詢網 - 產業與社福移工人數 - 按國籍別分\" src=\"https://s.yimg.com/ny/api/res/1.2/o0wftHciHulxsXZDp0WuyQ--/YXBwaWQ9aGlnaGxhbmRlcjt3PTk2MA--/https://media.zenfs.com/en/stormmediagroup.com/8a0c5682dde912118663d746fadadb12\" width=\"50%\">\n",
    "    </a>\n",
    "</pre>\n",
    "\n",
    "3. 資料\n",
    "\n",
    "    [勞動部 - 勞動統計查詢網 - 產業及社福移工人數按國籍分](https://statdb.mol.gov.tw/statiscla/webMain.aspx?sys=100&kind=10&type=1&funid=wqrymenu2&cparm1=wq14&rdm=I4y9dcIi)\n"
   ]
  },
  {
   "cell_type": "code",
   "execution_count": null,
   "metadata": {
    "vscode": {
     "languageId": "html"
    }
   },
   "outputs": [
    {
     "data": {
      "text/html": [
       "<script type=\"module\">\n",
       "    const data = await (\n",
       "        await fetch(\n",
       "            \"https://raw.githubusercontent.com\" +\n",
       "            \"/AsherJingkongChen/d3-worker-plot-tw/refs/heads/main/data.json\"\n",
       "        )\n",
       "    ).text();\n",
       "    const dataElement = document.getElementById(\"data\");\n",
       "    dataElement.innerHTML = data\n",
       "</script>\n",
       "<pre id=\"data\"></pre>\n"
      ],
      "text/plain": [
       "<IPython.core.display.HTML object>"
      ]
     },
     "metadata": {},
     "output_type": "display_data"
    }
   ],
   "source": [
    "%%html\n",
    "<script type=\"module\">\n",
    "    const DATA_JSON_URL = \"https://raw.githubusercontent.com\" +\n",
    "        \"/AsherJingkongChen/d3-worker-plot-tw/refs/heads/main/data.json\";\n",
    "    const dataText = await(await fetch(DATA_JSON_URL)).text();\n",
    "    const dataElement = document.getElementById(\"data\");\n",
    "    dataElement.innerHTML = dataText;\n",
    "</script>\n",
    "\n",
    "<pre id=\"data\"></pre>"
   ]
  }
 ],
 "metadata": {
  "kernelspec": {
   "display_name": "Python 3",
   "language": "python",
   "name": "python3"
  },
  "language_info": {
   "codemirror_mode": {
    "name": "ipython",
    "version": 3
   },
   "file_extension": ".py",
   "mimetype": "text/x-python",
   "name": "python",
   "nbconvert_exporter": "python",
   "pygments_lexer": "ipython3",
   "version": "3.12.2"
  }
 },
 "nbformat": 4,
 "nbformat_minor": 2
}
