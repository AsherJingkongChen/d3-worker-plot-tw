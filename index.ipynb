{
 "cells": [
  {
   "cell_type": "markdown",
   "metadata": {},
   "source": [
    "## 重新繪製台灣移工組成圖表"
   ]
  },
  {
   "cell_type": "markdown",
   "metadata": {},
   "source": [
    "### 參考文章及資料來源\n",
    "\n",
    "1. 新聞\n",
    "\n",
    "    [全台移工將破80萬大關，電業也招手！失聯者逼近9萬人 這產業占最多 by 李瑋萱 (2024)](https://tw.news.yahoo.com/全台移工將破80萬大關-電業也招手-失聯者逼近9萬人-這產業占最多-091507621.html)\n",
    "\n",
    "2. 圖表\n",
    "\n",
    "<pre>\n",
    "    <a href=\"https://statfy.mol.gov.tw/index12.aspx\" target=\"_blank\">\n",
    "        <img alt=\"勞動部 - 勞動統計查詢網 - 產業與社福移工人數 - 按國籍別分\" title=\"勞動部 - 勞動統計查詢網 - 產業與社福移工人數 - 按國籍別分\" src=\"https://s.yimg.com/ny/api/res/1.2/o0wftHciHulxsXZDp0WuyQ--/YXBwaWQ9aGlnaGxhbmRlcjt3PTk2MA--/https://media.zenfs.com/en/stormmediagroup.com/8a0c5682dde912118663d746fadadb12\" width=\"50%\">\n",
    "    </a>\n",
    "</pre>\n",
    "\n",
    "3. 資料\n",
    "\n",
    "    [勞動部 - 勞動統計查詢網 - 產業及社福移工人數按國籍分](https://statdb.mol.gov.tw/statiscla/webMain.aspx?sys=100&kind=10&type=1&funid=wqrymenu2&cparm1=wq14&rdm=I4y9dcIi)\n"
   ]
  },
  {
   "cell_type": "code",
   "execution_count": 18,
   "metadata": {},
   "outputs": [],
   "source": [
    "import os\n",
    "os.makedirs(\"data\", exist_ok=True)"
   ]
  },
  {
   "cell_type": "code",
   "execution_count": 19,
   "metadata": {},
   "outputs": [],
   "source": [
    "from http.client import HTTPSConnection\n",
    "\n",
    "try:\n",
    "    conn = HTTPSConnection(\"statdb.mol.gov.tw\")\n",
    "    conn.request(\n",
    "        \"GET\",\n",
    "        (\n",
    "            \"/statiscla/webMain.aspx\"\n",
    "            \"?sys=220&ym=8000&ymt=11310&kind=21&type=1\"\n",
    "            \"&funid=wq1402&cycle=1&outmode=2&compmode=0&outkind=11&fldspc=1,6,\"\n",
    "        ),\n",
    "    )\n",
    "    resp = conn.getresponse()\n",
    "    if resp.status == 200:\n",
    "        with open(\"data/wq1402.csv\", \"wb\") as fo:\n",
    "            while True:\n",
    "                chunk = resp.read(4096)\n",
    "                if not chunk:\n",
    "                    break\n",
    "                fo.write(chunk)\n",
    "    else:\n",
    "        print(f\"Failure: {resp.status} ({resp.reason})\")\n",
    "finally:\n",
    "    conn.close()"
   ]
  },
  {
   "cell_type": "code",
   "execution_count": 21,
   "metadata": {},
   "outputs": [],
   "source": [
    "import csv\n",
    "import json\n",
    "import re\n",
    "\n",
    "PAT_DATE_TW = re.compile(r\"(?P<y>\\d+)年\\s+(?P<m>\\d+)月\")\n",
    "\n",
    "\n",
    "def parse_date_tw(s: str) -> tuple[int, int]:\n",
    "    \"\"\"ISO format: yyyy-mm\"\"\"\n",
    "    d = PAT_DATE_TW.match(s)\n",
    "    y = int(d[\"y\"]) + 1911\n",
    "    m = int(d[\"m\"])\n",
    "    s = f\"{y:04d}-{m:02d}\"\n",
    "    return s\n",
    "\n",
    "\n",
    "with (\n",
    "    open(\"data/wq1402.csv\", mode=\"r\", encoding=\"big5\") as fi,\n",
    "    open(\"data.json\", mode=\"w\", encoding=\"utf-8\") as fo,\n",
    "):\n",
    "    ro: list[dict[str, str | int]] = []\n",
    "    for ri in csv.DictReader(fi):\n",
    "        x = parse_date_tw(ri[\"統計期\"])\n",
    "        ls = [\n",
    "            \"總計/印尼\",\n",
    "            \"總計/馬來西亞\",\n",
    "            \"總計/菲律賓\",\n",
    "            \"總計/泰國\",\n",
    "            \"總計/越南\",\n",
    "            \"總計/蒙古\",\n",
    "        ]\n",
    "        for l in ls:\n",
    "            y = ri[l]\n",
    "            y = 0 if y == \"\\uFF0D\" else int(y)\n",
    "            l = l.replace(\"總計/\", \"\")\n",
    "            ro.append(dict(l=l, x=x, y=y))\n",
    "    json.dump(ro, fo, ensure_ascii=False, indent=2)"
   ]
  },
  {
   "cell_type": "code",
   "execution_count": null,
   "metadata": {
    "vscode": {
     "languageId": "html"
    }
   },
   "outputs": [
    {
     "data": {
      "text/html": [
       "<script>\n",
       "    document.getElementsByTagName('h1')[0].style.color = 'gray';\n",
       "    document.getElementsByTagName('h1')[0].hidden = false;\n",
       "</script>\n",
       "<h1 hidden>My First Heading</h1>\n"
      ],
      "text/plain": [
       "<IPython.core.display.HTML object>"
      ]
     },
     "metadata": {},
     "output_type": "display_data"
    }
   ],
   "source": [
    "%%html\n",
    "<script>\n",
    "    document.getElementsByTagName('h1')[0].style.color = 'gray';\n",
    "    document.getElementsByTagName('h1')[0].hidden = false;\n",
    "</script>\n",
    "<h1 hidden>My First Heading</h1>"
   ]
  }
 ],
 "metadata": {
  "kernelspec": {
   "display_name": "Python 3",
   "language": "python",
   "name": "python3"
  },
  "language_info": {
   "codemirror_mode": {
    "name": "ipython",
    "version": 3
   },
   "file_extension": ".py",
   "mimetype": "text/x-python",
   "name": "python",
   "nbconvert_exporter": "python",
   "pygments_lexer": "ipython3",
   "version": "3.12.2"
  }
 },
 "nbformat": 4,
 "nbformat_minor": 2
}
